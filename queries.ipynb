{
 "cells": [
  {
   "cell_type": "code",
   "execution_count": null,
   "id": "c62599e8-a58a-4c5d-8229-fb0a9e2c32a4",
   "metadata": {},
   "outputs": [],
   "source": [
    "import pickle\n",
    "import polars as pl\n",
    "\n",
    "\n",
    "with open('./data.pkl', 'rb') as f:\n",
    "    df = pickle.load(f)\n",
    "\n",
    "df"
   ]
  },
  {
   "cell_type": "code",
   "execution_count": null,
   "id": "5966f25c-70a9-4b1a-a721-dbab261291f8",
   "metadata": {},
   "outputs": [],
   "source": [
    "c = pl.col"
   ]
  },
  {
   "cell_type": "code",
   "execution_count": null,
   "id": "6164c99d-08ca-465d-99e2-8015ebbce42a",
   "metadata": {},
   "outputs": [],
   "source": [
    "import json\n",
    "from collections import OrderedDict\n",
    "import os\n",
    "import numpy as np"
   ]
  },
  {
   "cell_type": "markdown",
   "id": "ce68294a-c5d1-4f68-9094-e85ce194cd91",
   "metadata": {},
   "source": [
    "# Trajectories within 300m behind an actively controlled AV "
   ]
  },
  {
   "cell_type": "code",
   "execution_count": null,
   "id": "b3cf08f6-7c29-4912-b484-5073e154699e",
   "metadata": {},
   "outputs": [],
   "source": [
    "df_once_within = df.filter(pl.col('distance_to_upstream_av_meters').list.min() < 300)\n",
    "# Return all trajectories that are 'once' within 300m behind an actively controlled AV\n",
    "df_once_within"
   ]
  },
  {
   "cell_type": "code",
   "execution_count": null,
   "id": "3be49392-fbff-4770-84e5-c6cf517a8519",
   "metadata": {},
   "outputs": [],
   "source": [
    "(df_once_within\n",
    "    .with_columns(\n",
    "        # The column \"within_indics\" is a list of indices of the timestamps where the vehicle is within 300m behind an actively controlled AV\n",
    "        within_indcs=pl.col('distance_to_upstream_av_meters')\n",
    "            .map_elements(lambda dist: list(np.argwhere(np.array(dist) < 300)[:, 0]),\n",
    "                          return_dtype=list[int]),\n",
    "    )\n",
    "    .with_columns(\n",
    "        # The column \"within_distance_to_upstream_av_meters\" is a list of the timestamp where the vehicle is within 300m behind an actively controlled AV\n",
    "        within_timestamps=pl.struct(['timestamp', 'within_indcs'])\n",
    "            .map_elements(lambda x: list(np.array(x['timestamp'])[x['within_indcs']]),\n",
    "                          return_dtype=list[float]),\n",
    "    )\n",
    ")"
   ]
  },
  {
   "cell_type": "markdown",
   "id": "d283d56d-e604-4575-a250-5f70e76b52dd",
   "metadata": {},
   "source": [
    "# Trajectories within 300m ahead of an actively controlled AV"
   ]
  },
  {
   "cell_type": "code",
   "execution_count": null,
   "id": "0d407e92-0a56-4dd8-a99e-5725894f3d56",
   "metadata": {},
   "outputs": [],
   "source": [
    "df_once_within = df.filter(pl.col('distance_to_downstream_av_meters').list.min() > -300)\n",
    "# Return all trajectories that are 'once' within 300m ahead of an actively controlled AV\n",
    "df_once_within"
   ]
  },
  {
   "cell_type": "code",
   "execution_count": null,
   "id": "a7b21699-4785-425d-acc6-148ba9a27850",
   "metadata": {},
   "outputs": [],
   "source": [
    "(df_once_within\n",
    "    .with_columns(\n",
    "        # The column \"within_indics\" is a list of indices of the timestamps where the vehicle is within 300m ahead of an actively controlled AV\n",
    "        within_indcs=pl.col('distance_to_downstream_av_meters')\n",
    "            .map_elements(lambda dist: list(np.argwhere(np.array(dist) > -300)[:, 0]),\n",
    "                          return_dtype=list[int]),\n",
    "    )\n",
    "    .with_columns(\n",
    "        # The column \"within_distance_to_upstream_av_meters\" is a list of the timestamp where the vehicle is within 300m ahead of an actively controlled AV\n",
    "        within_timestamps=pl.struct(['timestamp', 'within_indcs'])\n",
    "            .map_elements(lambda x: list(np.array(x['timestamp'])[x['within_indcs']]),\n",
    "                          return_dtype=list[float]),\n",
    "    )\n",
    ")"
   ]
  },
  {
   "cell_type": "markdown",
   "id": "46eec4e0-76b9-4349-844e-fcc8fe952c72",
   "metadata": {},
   "source": [
    "# Trajectories more than 2000m away from an AV "
   ]
  },
  {
   "cell_type": "code",
   "execution_count": null,
   "id": "cea72d27-99e9-418f-83e3-9d7792a278f3",
   "metadata": {},
   "outputs": [],
   "source": [
    "df_once_away = df.filter(\n",
    "    (pl.col('distance_to_downstream_av_meters').list.max() > 2000) |\n",
    "    (pl.col('distance_to_upstream_av_meters').list.max() < -2000)\n",
    ")\n",
    "# Return all trajectories that are 'once' more than 2000m away from an actively controlled AV\n",
    "df_once_away"
   ]
  },
  {
   "cell_type": "code",
   "execution_count": null,
   "id": "47d55943-2dc1-4338-ac5a-5959c089ca0c",
   "metadata": {},
   "outputs": [],
   "source": [
    "(df_once_away\n",
    "     .with_columns(\n",
    "        # The column \"daway_indics\" is a list of indices of the timestamps where the vehicle is more than 2000m ahead of an actively controlled AV\n",
    "         daway_indcs=pl.col('distance_to_downstream_av_meters')\n",
    "            .map_elements(lambda dist: list(np.argwhere(np.array(dist) > 2000)[:, 0]),\n",
    "                          return_dtype=list[int]),\n",
    "        # The column \"uaway_indics\" is a list of indices of the timestamps where the vehicle is more than 2000m behind an actively controlled AV\n",
    "         uaway_indcs=pl.col('distance_to_upstream_av_meters')\n",
    "            .map_elements(lambda dist: list(np.argwhere(np.array(dist) < -2000)[:, 0]),\n",
    "                          return_dtype=list[int]),\n",
    "     )\n",
    "     .with_columns(\n",
    "        # The column \"daway_timestamps\" is a list of the timestamp where the vehicle is more than 2000m ahead of an actively controlled AV\n",
    "         daway_timestamps=pl.struct(['timestamp', 'daway_indcs'])\n",
    "            .map_elements(lambda x: list(np.array(x['timestamp'])[x['daway_indcs']]),\n",
    "                          return_dtype=list[float]),\n",
    "        # The column \"uaway_timestamps\" is a list of the timestamp where the vehicle is more than 2000m behind an actively controlled AV\n",
    "         uaway_timestamps=pl.struct(['timestamp', 'uaway_indcs'])\n",
    "            .map_elements(lambda x: list(np.array(x['timestamp'])[x['uaway_indcs']]),\n",
    "                          return_dtype=list[float]),\n",
    "     )\n",
    ")"
   ]
  },
  {
   "cell_type": "code",
   "execution_count": null,
   "id": "e2d5e639-2c78-4a3a-9448-75f2505ca9a7",
   "metadata": {},
   "outputs": [],
   "source": [
    "df.filter(c.downstream_av_id.map_elements(lambda ids: any(i is None for i in ids)))"
   ]
  },
  {
   "cell_type": "markdown",
   "id": "c827d67a-df6f-4662-8572-172d851a3625",
   "metadata": {},
   "source": [
    "# Trajectories exactly behind/ahead of an active AV"
   ]
  },
  {
   "cell_type": "code",
   "execution_count": null,
   "id": "f8079d8a-7668-4c64-a9ec-8b1be0389c85",
   "metadata": {},
   "outputs": [],
   "source": [
    "# POS = 'downstream'\n",
    "POS = 'upstream'\n",
    "\n",
    "def new_av(aid):\n",
    "    \"\"\"\n",
    "    Given a list of av_ids, return a list of indices of when av_id changes.\n",
    "    \"\"\"\n",
    "    aid = np.array([a if a is not None else -1 for a in aid], dtype=int)\n",
    "    return list(np.argwhere(aid[:-1] != aid[1:])[:, 0] + 1)\n",
    "\n",
    "\n",
    "df_split_av_ = (df\n",
    "    .select(\n",
    "        pl.col('trajectory_id'),\n",
    "        pl.col('timestamp'),\n",
    "        pl.col(f'{POS}_av_id'),\n",
    "        pl.col(f'distance_to_{POS}_av_meters'),\n",
    "    )\n",
    "    .rename({'trajectory_id': 'tid', f'{POS}_av_id': 'avid', f'distance_to_{POS}_av_meters': 'dist'})\n",
    "    # Remove all the trajectories without any av id.\n",
    "    .filter(pl.col('avid').list.drop_nulls().list.len() != 0)\n",
    "    .with_columns(\n",
    "        # Since the timestamps for each trajectories do not align, we snap the timestamp of all the trajectories to the nearest millisecond.\n",
    "        timestamp_int=pl.col('timestamp')\n",
    "            .map_elements(lambda ts: [int(ts[0] * 100 + 0.5) + int((t - ts[0]) * 100 + 0.5) for t in ts],\n",
    "                          return_dtype=list[int]),\n",
    "        # A list of indices of a trajectory points. Will be used to reference each point of the trajectory.\n",
    "        trajectory_point_idx=pl.col('timestamp')\n",
    "            .map_elements(lambda ts: list(range(len(ts))),\n",
    "                          return_dtype=list[int]),\n",
    "    )\n",
    "    .with_columns(\n",
    "        # Derive when a trajectory changes its up/down-stream AV.\n",
    "        new_av=pl.col('avid')\n",
    "            .map_elements(new_av, return_dtype=list[int])\n",
    "    )\n",
    "    .with_columns(\n",
    "        # Split timestamps based on the AV the trajectory follow / lead.\n",
    "        timestamp=pl.struct('timestamp', 'new_av')\n",
    "            .map_elements(lambda x: [list(l) for l in np.split(x['timestamp'], x['new_av'])],\n",
    "                          return_dtype=list[list[float]]),\n",
    "        # Split avid based on the AV the trajectory follow / lead.\n",
    "        # Take the first AV id because all the ids in the splitted array are the same (because we split by AV id)\n",
    "        avid=pl.struct('avid', 'new_av')\n",
    "            .map_elements(lambda x: [l[0] for l in np.split(x['avid'], x['new_av'])],\n",
    "                          return_dtype=list[int]),\n",
    "        # Split dist based on the AV the trajectory follow / lead.\n",
    "        dist=pl.struct('dist', 'new_av')\n",
    "            .map_elements(lambda x: [list(l) for l in np.split(x['dist'], x['new_av'])],\n",
    "                          return_dtype=list[list[float]]),\n",
    "        # Split timestamp_int based on the AV the trajectory follow / lead.\n",
    "        timestamp_int=pl.struct('timestamp_int', 'new_av')\n",
    "            .map_elements(lambda x: [list(l) for l in np.split(x['timestamp_int'], x['new_av'])],\n",
    "                          return_dtype=list[list[int]]),\n",
    "        # Split trajectory_point_idx based on the AV the trajectory follow / lead.\n",
    "        trajectory_point_idx=pl.struct('trajectory_point_idx', 'new_av')\n",
    "            .map_elements(lambda x: [list(l) for l in np.split(x['trajectory_point_idx'], x['new_av'])],\n",
    "                          return_dtype=list[list[int]]),\n",
    "    )\n",
    ")\n",
    "df_split_av_"
   ]
  },
  {
   "cell_type": "code",
   "execution_count": null,
   "id": "c6b922c5-d7ed-49c5-a24a-de992b008f36",
   "metadata": {},
   "outputs": [],
   "source": [
    "df_split_av = (df_split_av_\n",
    "    .drop('new_av')\n",
    "    .explode(\n",
    "        # list[list[timestamp]] per row -> list[timestamp] per row\n",
    "        'timestamp',\n",
    "        # list[list[timestamp_int]] per row -> list[timestamp_int] per row\n",
    "        'timestamp_int',\n",
    "        # list[avid] per row -> avid per row\n",
    "        'avid',\n",
    "        # list[list[dist]] per row -> list[dist] per row\n",
    "        'dist',\n",
    "        # list[list[trajectory_point_idx]] per row -> list[trajectory_point_idx] per row\n",
    "        'trajectory_point_idx',\n",
    "    )\n",
    "    .filter(~pl.col('avid').is_null())\n",
    ")\n",
    "df_split_av"
   ]
  },
  {
   "cell_type": "code",
   "execution_count": null,
   "id": "a0567d30-4dbd-414b-b699-98ee77f519c5",
   "metadata": {},
   "outputs": [],
   "source": [
    "import itertools\n",
    "def interpolate(arr):\n",
    "    last = arr[-1]\n",
    "    arr = np.array(arr)\n",
    "    prv = arr[:-1]\n",
    "    nxt = arr[1:]\n",
    "    dff = nxt - prv\n",
    "    dff25 = prv + dff * .25\n",
    "    dff50 = prv + dff * .50\n",
    "    dff75 = prv + dff * .75\n",
    "    return list(np.stack((prv, dff25, dff50, dff75), axis=-1).flatten()) + [last]\n",
    "    \n",
    "\n",
    "df_interpolate_ = (df_split_av\n",
    "    .with_columns(\n",
    "        # Points of a trajectories are captured roughly every 4 millisecond and 2 trajectories might not align, so we interpolate trajectories points to every 1 millisecond.\n",
    "        timestamp_int=pl.col('timestamp_int').map_elements(lambda ts: list(range(ts[0], ts[-1] + 1)), return_dtype=list[int]),\n",
    "        # Interpolate timestamp\n",
    "        timestamp=pl.col('timestamp').map_elements(interpolate, return_dtype=list[float]),\n",
    "        # Interpolate dist\n",
    "        dist=pl.col('dist').map_elements(interpolate, return_dtype=list[float]),\n",
    "        # Interpolate trajectory_point_idx\n",
    "        trajectory_point_idx_interp=pl.col('trajectory_point_idx').map_elements(lambda r: range(r[0] * 4, r[-1] * 4 + 1), return_dtype=list[int]),\n",
    "        # avid=pl.col('avid').list.first(),\n",
    "    )\n",
    ")\n",
    "\n",
    "df_interpolate_"
   ]
  },
  {
   "cell_type": "code",
   "execution_count": null,
   "id": "bfc968d8-377e-4a61-a97d-f71b8c7fa500",
   "metadata": {},
   "outputs": [],
   "source": [
    "df_interpolate = (df_interpolate_\n",
    "    # Drop the original trajectory_point_idx it has different lenght than other columns (cannot explode)\n",
    "    .drop('trajectory_point_idx')\n",
    "    .explode(\n",
    "        # Flatten all trajectories points\n",
    "        'timestamp',\n",
    "        'dist',\n",
    "        'timestamp_int',\n",
    "        'trajectory_point_idx_interp',\n",
    "    )\n",
    ")\n",
    "df_interpolate"
   ]
  },
  {
   "cell_type": "code",
   "execution_count": null,
   "id": "9bd6d3b6-b11f-4d00-84ba-635fc30f07a2",
   "metadata": {},
   "outputs": [],
   "source": [
    "df_interpolate_grouped = (df_interpolate\n",
    "    # For every AV id and every timestamp (snapped to the nearest millissecond -> every millisecond)\n",
    "    .group_by('avid', 'timestamp_int')\n",
    "    # Roll up ungrouped columns into lists\n",
    "    .all()\n",
    "    .with_columns(\n",
    "        # Find the index of the nearest vehicle\n",
    "        nearest_idx=pl.col('dist').list.arg_min() if POS == 'downstream' else pl.col('dist').list.arg_max()\n",
    "    )\n",
    ")\n",
    "df_interpolate_grouped"
   ]
  },
  {
   "cell_type": "code",
   "execution_count": null,
   "id": "4dc37006-7cab-48db-9656-b9a81ecd955e",
   "metadata": {},
   "outputs": [],
   "source": [
    "df_nearest = (df_interpolate_grouped\n",
    "    .with_columns(\n",
    "        # Choose the vehicle from the index\n",
    "        timestamp=pl.col('timestamp').list.get(pl.col('nearest_idx')),\n",
    "        trajectory_id=pl.col('tid').list.get(pl.col('nearest_idx')),\n",
    "        dist=pl.col('dist').list.get(pl.col('nearest_idx')),\n",
    "        trajectory_point_idx_interp=pl.col('trajectory_point_idx_interp').list.get(pl.col('nearest_idx')),\n",
    "    )\n",
    "    .drop('nearest_idx', 'tid')\n",
    "    # Only include the non-interpolated trajectory points\n",
    "    .filter(pl.col('trajectory_point_idx_interp') % 4 == 0)\n",
    "    .sort('timestamp')\n",
    "    # (trajectory_id, trajectory_point_idx) can now be used to reference the trajectory points in the original dataframe.\n",
    "    .with_columns(trajectory_point_idx=pl.col('trajectory_point_idx_interp') // 4)\n",
    ")\n",
    "df_nearest"
   ]
  },
  {
   "cell_type": "code",
   "execution_count": null,
   "id": "0664fed9-940a-4826-89fb-8c57922180b4",
   "metadata": {},
   "outputs": [],
   "source": [
    "(df_nearest\n",
    "    .group_by('avid')\n",
    "    # Roll up ungrouped columns into lists\n",
    "    .all()\n",
    ")"
   ]
  },
  {
   "cell_type": "code",
   "execution_count": null,
   "id": "1b1d0de8-7b0d-422e-8c9f-1e9a9f5fadec",
   "metadata": {},
   "outputs": [],
   "source": []
  },
  {
   "cell_type": "code",
   "execution_count": null,
   "id": "93f07580-5468-4fb7-8432-a52242eb6c23",
   "metadata": {},
   "outputs": [],
   "source": []
  }
 ],
 "metadata": {
  "kernelspec": {
   "display_name": "Python 3 (ipykernel)",
   "language": "python",
   "name": "python3"
  },
  "language_info": {
   "codemirror_mode": {
    "name": "ipython",
    "version": 3
   },
   "file_extension": ".py",
   "mimetype": "text/x-python",
   "name": "python",
   "nbconvert_exporter": "python",
   "pygments_lexer": "ipython3",
   "version": "3.12.4"
  }
 },
 "nbformat": 4,
 "nbformat_minor": 5
}
