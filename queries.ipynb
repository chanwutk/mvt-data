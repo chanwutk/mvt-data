{
 "cells": [
  {
   "cell_type": "code",
   "execution_count": null,
   "id": "c62599e8-a58a-4c5d-8229-fb0a9e2c32a4",
   "metadata": {},
   "outputs": [],
   "source": [
    "import pickle\n",
    "import polars as pl\n",
    "import polars.datatypes as pld"
   ]
  },
  {
   "cell_type": "code",
   "execution_count": null,
   "id": "34824f6f-36c6-4fb5-9a60-2255f2667933",
   "metadata": {},
   "outputs": [],
   "source": [
    "with open('./I-24MOTION_2022-11-17_08-10-00.json.pkl', 'rb') as f:\n",
    "    df = pickle.load(f)\n",
    "\n",
    "df"
   ]
  },
  {
   "cell_type": "code",
   "execution_count": null,
   "id": "5966f25c-70a9-4b1a-a721-dbab261291f8",
   "metadata": {},
   "outputs": [],
   "source": [
    "c = pl.col"
   ]
  },
  {
   "cell_type": "code",
   "execution_count": null,
   "id": "6164c99d-08ca-465d-99e2-8015ebbce42a",
   "metadata": {},
   "outputs": [],
   "source": [
    "import json\n",
    "from collections import OrderedDict\n",
    "import os\n",
    "import numpy as np"
   ]
  },
  {
   "cell_type": "markdown",
   "id": "ce68294a-c5d1-4f68-9094-e85ce194cd91",
   "metadata": {},
   "source": [
    "# Trajectories within 300m behind an actively controlled AV "
   ]
  },
  {
   "cell_type": "code",
   "execution_count": null,
   "id": "b3cf08f6-7c29-4912-b484-5073e154699e",
   "metadata": {},
   "outputs": [],
   "source": [
    "df_once_within = df.filter(pl.col('distance_to_upstream_av_meters').list.min() < 300)\n",
    "# Return all trajectories that are 'once' within 300m behind an actively controlled AV\n",
    "df_once_within"
   ]
  },
  {
   "cell_type": "code",
   "execution_count": null,
   "id": "3be49392-fbff-4770-84e5-c6cf517a8519",
   "metadata": {},
   "outputs": [],
   "source": [
    "(df_once_within\n",
    "    .with_columns(\n",
    "        # The column \"within_indics\" is a list of indices of the timestamps where the vehicle is within 300m behind an actively controlled AV\n",
    "        within_indcs=pl.col('distance_to_upstream_av_meters').list.eval(pl.arg_where(pl.element() < 300)),\n",
    "    )\n",
    "    .with_columns(\n",
    "        # The column \"within_distance_to_upstream_av_meters\" is a list of the timestamp where the vehicle is within 300m behind an actively controlled AV\n",
    "        within_timestamps=pl.col('timestamp').list.gather(pl.col('within_indcs'))\n",
    "    )\n",
    ")"
   ]
  },
  {
   "cell_type": "markdown",
   "id": "d283d56d-e604-4575-a250-5f70e76b52dd",
   "metadata": {},
   "source": [
    "# Trajectories within 300m ahead of an actively controlled AV"
   ]
  },
  {
   "cell_type": "code",
   "execution_count": null,
   "id": "0d407e92-0a56-4dd8-a99e-5725894f3d56",
   "metadata": {},
   "outputs": [],
   "source": [
    "df_once_within = df.filter(pl.col('distance_to_downstream_av_meters').list.min() > -300)\n",
    "# Return all trajectories that are 'once' within 300m ahead of an actively controlled AV\n",
    "df_once_within"
   ]
  },
  {
   "cell_type": "code",
   "execution_count": null,
   "id": "a7b21699-4785-425d-acc6-148ba9a27850",
   "metadata": {},
   "outputs": [],
   "source": [
    "(df_once_within\n",
    "    .with_columns(\n",
    "        # The column \"within_indics\" is a list of indices of the timestamps where the vehicle is within 300m ahead of an actively controlled AV\n",
    "        within_indcs=pl.col('distance_to_downstream_av_meters').list.eval(pl.arg_where(pl.element() > -300)),\n",
    "    )\n",
    "    .with_columns(\n",
    "        # The column \"within_distance_to_upstream_av_meters\" is a list of the timestamp where the vehicle is within 300m ahead of an actively controlled AV\n",
    "        within_timestamps=pl.col('timestamp').list.gather(pl.col('within_indcs'))\n",
    "    )\n",
    ")"
   ]
  },
  {
   "cell_type": "markdown",
   "id": "46eec4e0-76b9-4349-844e-fcc8fe952c72",
   "metadata": {},
   "source": [
    "# Trajectories more than 2000m away from an AV "
   ]
  },
  {
   "cell_type": "code",
   "execution_count": null,
   "id": "cea72d27-99e9-418f-83e3-9d7792a278f3",
   "metadata": {},
   "outputs": [],
   "source": [
    "df_once_away = df.filter(\n",
    "    (pl.col('distance_to_downstream_av_meters').list.max() > 2000) |\n",
    "    (pl.col('distance_to_upstream_av_meters').list.max() < -2000)\n",
    ")\n",
    "# Return all trajectories that are 'once' more than 2000m away from an actively controlled AV\n",
    "df_once_away"
   ]
  },
  {
   "cell_type": "code",
   "execution_count": null,
   "id": "47d55943-2dc1-4338-ac5a-5959c089ca0c",
   "metadata": {},
   "outputs": [],
   "source": [
    "(df_once_away\n",
    "     .with_columns(\n",
    "        # The column \"daway_indics\" is a list of indices of the timestamps where the vehicle is more than 2000m ahead of an actively controlled AV\n",
    "         daway_indcs=pl.col('distance_to_downstream_av_meters').list.eval(pl.arg_where(pl.element() > 2000)),\n",
    "        # The column \"uaway_indics\" is a list of indices of the timestamps where the vehicle is more than 2000m behind an actively controlled AV\n",
    "         uaway_indcs=pl.col('distance_to_upstream_av_meters').list.eval(pl.arg_where(pl.element() < -2000)),\n",
    "     )\n",
    "     .with_columns(\n",
    "        # The column \"daway_timestamps\" is a list of the timestamp where the vehicle is more than 2000m ahead of an actively controlled AV\n",
    "         daway_timestamps=pl.col('timestamp').list.gather(pl.col('daway_indcs')),\n",
    "        # The column \"uaway_timestamps\" is a list of the timestamp where the vehicle is more than 2000m behind an actively controlled AV\n",
    "         uaway_timestamps=pl.col('timestamp').list.gather(pl.col('uaway_indcs'))\n",
    "     )\n",
    ")"
   ]
  },
  {
   "cell_type": "markdown",
   "id": "c827d67a-df6f-4662-8572-172d851a3625",
   "metadata": {},
   "source": [
    "# Trajectories exactly behind/ahead of an active AV"
   ]
  },
  {
   "cell_type": "code",
   "execution_count": null,
   "id": "f8079d8a-7668-4c64-a9ec-8b1be0389c85",
   "metadata": {},
   "outputs": [],
   "source": [
    "# POS = 'downstream'\n",
    "POS = 'upstream'\n",
    "\n",
    "\n",
    "df_timestamp_bin = (df\n",
    "    .select(\n",
    "        'trajectory_id',\n",
    "        'timestamp',\n",
    "        f'{POS}_av_id',\n",
    "        f'distance_to_{POS}_av_meters',\n",
    "    )\n",
    "    .rename({\n",
    "        'trajectory_id': 'tid',\n",
    "        f'{POS}_av_id': 'avid',\n",
    "        f'distance_to_{POS}_av_meters': 'dist'\n",
    "    })\n",
    "    # Remove all the trajectories without any av id.\n",
    "    .filter(pl.col('avid').list.drop_nulls().list.len() != 0)\n",
    "    .with_columns(\n",
    "        # Since the timestamps for each trajectories do not align, we snap the timestamp of all the trajectories to the nearest 1/25th seconds (Each trajectory point is recorded every 40 millisecond).\n",
    "        timestamp_bin=pl.col('timestamp').list.eval((pl.element() * 100. / 4. + .5).cast(pld.Int64) * 4),\n",
    "\n",
    "        # A list of indices of a trajectory points. Can be used to reference each point of the trajectory.\n",
    "        trajectory_point_idx=pl.int_ranges(pl.col('timestamp').list.len()),\n",
    "    )\n",
    ")\n",
    "df_timestamp_bin"
   ]
  },
  {
   "cell_type": "code",
   "execution_count": null,
   "id": "bfc968d8-377e-4a61-a97d-f71b8c7fa500",
   "metadata": {},
   "outputs": [],
   "source": [
    "df_flatten = (df_timestamp_bin\n",
    "    # Flatten all trajectories points\n",
    "    .explode(\n",
    "        'timestamp',\n",
    "        'dist',\n",
    "        'timestamp_bin',\n",
    "        'trajectory_point_idx',\n",
    "        'avid'\n",
    "    )\n",
    "    # Remove trajectory points that is not matched with any AV.\n",
    "    .filter(~pl.col('avid').is_null())\n",
    ")\n",
    "df_flatten"
   ]
  },
  {
   "cell_type": "code",
   "execution_count": null,
   "id": "9bd6d3b6-b11f-4d00-84ba-635fc30f07a2",
   "metadata": {},
   "outputs": [],
   "source": [
    "df_grouped = (df_flatten\n",
    "    # For every AV id and every timestamp (snapped to the nearest millissecond -> every millisecond)\n",
    "    .group_by('avid', 'timestamp_bin')\n",
    "    # Roll up ungrouped columns into lists\n",
    "    .all()\n",
    "    .with_columns(\n",
    "        # Find the index of the nearest vehicle\n",
    "        idx_nearest=pl.col('dist').list.eval(pl.element().abs()).list.arg_min()\n",
    "    )\n",
    ")\n",
    "df_grouped"
   ]
  },
  {
   "cell_type": "code",
   "execution_count": null,
   "id": "4dc37006-7cab-48db-9656-b9a81ecd955e",
   "metadata": {},
   "outputs": [],
   "source": [
    "df_nearest = (df_grouped\n",
    "    .with_columns(\n",
    "        # Choose the vehicle from the index of the nearest vehicle\n",
    "        timestamp=pl.col('timestamp')\n",
    "            .list.get(pl.col('idx_nearest')),\n",
    "        trajectory_id=pl.col('tid')\n",
    "            .list.get(pl.col('idx_nearest')),\n",
    "        dist=pl.col('dist')\n",
    "            .list.get(pl.col('idx_nearest')),\n",
    "        trajectory_point_idx=pl.col('trajectory_point_idx')\n",
    "            .list.get(pl.col('idx_nearest')),\n",
    "    )\n",
    "    .drop('idx_nearest', 'tid', 'timestamp_bin')\n",
    "    .sort('timestamp')\n",
    ")\n",
    "df_nearest"
   ]
  },
  {
   "cell_type": "code",
   "execution_count": null,
   "id": "0664fed9-940a-4826-89fb-8c57922180b4",
   "metadata": {},
   "outputs": [],
   "source": [
    "(df_nearest\n",
    "    .group_by('avid')\n",
    "    # Roll up ungrouped columns into lists\n",
    "    .all()\n",
    "    .sort('avid')\n",
    ")"
   ]
  },
  {
   "cell_type": "code",
   "execution_count": null,
   "id": "c36a12e5-63d8-418e-99c6-1fb62e416119",
   "metadata": {},
   "outputs": [],
   "source": []
  }
 ],
 "metadata": {
  "kernelspec": {
   "display_name": "Python 3 (ipykernel)",
   "language": "python",
   "name": "python3"
  },
  "language_info": {
   "codemirror_mode": {
    "name": "ipython",
    "version": 3
   },
   "file_extension": ".py",
   "mimetype": "text/x-python",
   "name": "python",
   "nbconvert_exporter": "python",
   "pygments_lexer": "ipython3",
   "version": "3.12.4"
  }
 },
 "nbformat": 4,
 "nbformat_minor": 5
}
