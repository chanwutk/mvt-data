{
 "cells": [
  {
   "cell_type": "code",
   "execution_count": null,
   "id": "36fd9cd5-2d72-4b3a-b140-5f8e0ba186f2",
   "metadata": {},
   "outputs": [],
   "source": [
    "import polars as pl"
   ]
  },
  {
   "cell_type": "code",
   "execution_count": null,
   "id": "3eb202c6-4ccd-4443-8296-478d02e02e4a",
   "metadata": {},
   "outputs": [],
   "source": [
    "import json"
   ]
  },
  {
   "cell_type": "code",
   "execution_count": null,
   "id": "a431a592-66cd-47ba-a683-2edd34603c38",
   "metadata": {},
   "outputs": [],
   "source": [
    "import numpy as np\n",
    "import copy"
   ]
  },
  {
   "cell_type": "code",
   "execution_count": null,
   "id": "33ff2039-133c-45b0-8e22-e18860bcccc9",
   "metadata": {},
   "outputs": [],
   "source": [
    "with open('I-24MOTION_2022-11-17_08-10-00.json', 'r') as f:\n",
    "    data = json.load(f)"
   ]
  },
  {
   "cell_type": "code",
   "execution_count": null,
   "id": "5ad10477-1bd9-4949-a844-f6bd5c932a80",
   "metadata": {},
   "outputs": [],
   "source": [
    "# data = copy.deepcopy(_data)"
   ]
  },
  {
   "cell_type": "code",
   "execution_count": null,
   "id": "dd16595d-cf1b-47fe-bf76-3ea31b23fa30",
   "metadata": {},
   "outputs": [],
   "source": [
    "datum = data[0]"
   ]
  },
  {
   "cell_type": "code",
   "execution_count": null,
   "id": "d7534d5e-00d7-4ff4-98c1-f9cf10aaa9cc",
   "metadata": {},
   "outputs": [],
   "source": [
    "datum['trajectory_id']"
   ]
  },
  {
   "cell_type": "code",
   "execution_count": null,
   "id": "11fc4f6a-4a91-415e-8142-0c25234b34c1",
   "metadata": {},
   "outputs": [],
   "source": [
    "for d in data[:10]:\n",
    "    print(d['direction'])"
   ]
  },
  {
   "cell_type": "code",
   "execution_count": null,
   "id": "686acf65-df7e-40f9-804c-02958e82b348",
   "metadata": {},
   "outputs": [],
   "source": [
    "for k, v in datum.items():\n",
    "    print(k, type(v))"
   ]
  },
  {
   "cell_type": "code",
   "execution_count": null,
   "id": "2881808b-45f5-43a7-adf9-cf364454deb9",
   "metadata": {},
   "outputs": [],
   "source": [
    "type_map = {}\n",
    "for datum in data:\n",
    "    for k, v in datum.items():\n",
    "        if k not in type_map:\n",
    "            type_map[k] = set()\n",
    "        type_map[k].add(type(v))"
   ]
  },
  {
   "cell_type": "code",
   "execution_count": null,
   "id": "e54e2f44-e26d-405a-8a82-458a2693b2f0",
   "metadata": {},
   "outputs": [],
   "source": [
    "# type_map = {}\n",
    "# for datum in data:\n",
    "#     if isinstance(datum['total_fuel_economy_flat_road_mpg'], list):\n",
    "#         print(datum['total_fuel_economy_flat_road_mpg'])"
   ]
  },
  {
   "cell_type": "code",
   "execution_count": null,
   "id": "f306a0e8-1707-4d19-b94e-3da1fc18f5da",
   "metadata": {},
   "outputs": [],
   "source": [
    "pl.from_records([type_map])"
   ]
  },
  {
   "cell_type": "code",
   "execution_count": null,
   "id": "be4beaa0-9a51-4a04-bd7d-cf2d56aaffef",
   "metadata": {},
   "outputs": [],
   "source": [
    "mixed_type = []\n",
    "for k, v in type_map.items():\n",
    "    if len(v) > 1:\n",
    "        print(v, k)\n",
    "        mixed_type.append(k)\n",
    "mixed_type"
   ]
  },
  {
   "cell_type": "code",
   "execution_count": null,
   "id": "f65d50dd-4436-4a1d-aa2c-084a58e5478e",
   "metadata": {},
   "outputs": [],
   "source": [
    "list_type = {}\n",
    "for datum in data:\n",
    "    for k, v in datum.items():\n",
    "        if isinstance(v, list):\n",
    "            if k not in list_type:\n",
    "                list_type[k] = set()\n",
    "            if not isinstance(v, list):\n",
    "                list_type[k].add(type(v))\n",
    "            elif len(v) == 0:\n",
    "                list_type[k].add('empty')\n",
    "            else:\n",
    "                if any(isinstance(vv, float) for vv in v):\n",
    "                    list_type[k].add('float')\n",
    "                # if np.array(v).dtype == np.dtype('O'):\n",
    "                #     print(v)\n",
    "                elif any(isinstance(vv, int) for vv in v):\n",
    "                    list_type[k].add('int')\n",
    "                else:\n",
    "                    assert False\n",
    "                    # list_type[k].add('unknown')\n",
    "            # if np.array(v).dtype == np.dtype('O'):\n",
    "            #     print(v)"
   ]
  },
  {
   "cell_type": "code",
   "execution_count": null,
   "id": "65f5184c-2c2e-413c-9ab8-09e2cc39d94c",
   "metadata": {},
   "outputs": [],
   "source": [
    "for k, v in list_type.items():\n",
    "    print(k, v)"
   ]
  },
  {
   "cell_type": "code",
   "execution_count": null,
   "id": "e0892f16-2648-41cc-8ff9-7da6844f01d8",
   "metadata": {},
   "outputs": [],
   "source": [
    "object_dtypes = []\n",
    "float_dtypes = []\n",
    "for k, v in list_type.items():\n",
    "    if len(v) > 1 and np.dtype('O') in v:\n",
    "        print(k, v)\n",
    "        object_dtypes.append(k)\n",
    "    elif 'float' in v:\n",
    "        print(k, v)\n",
    "        float_dtypes.append(k)\n",
    "    # elif len(v) == 1 and np.dtype('float64') in v:\n",
    "    #     float_dtypes.append(k)"
   ]
  },
  {
   "cell_type": "code",
   "execution_count": null,
   "id": "90f6a5c4-ad51-4173-818b-6255bcf3b98a",
   "metadata": {},
   "outputs": [],
   "source": [
    "np.array([1,2,3]).astype(np.dtype('O'))"
   ]
  },
  {
   "cell_type": "code",
   "execution_count": null,
   "id": "e5b3eeb8-4d55-4651-9be9-021525137e8e",
   "metadata": {},
   "outputs": [],
   "source": [
    "for datum in data:\n",
    "    aid = datum['upstream_av_id']\n",
    "    # if (isinstance(aid, list) and any(isinstance(a, float) for a in aid)) or (aid is None):\n",
    "    #     print(aid)\n",
    "    for t in mixed_type:\n",
    "        d = datum[t]\n",
    "        if isinstance(d, list) or d is None:\n",
    "            datum[t] = None\n",
    "        else:\n",
    "            datum[t] = float(d)\n",
    "    for t in float_dtypes:\n",
    "        d = datum[t]\n",
    "        if d is None:\n",
    "            continue\n",
    "        if isinstance(d, float):\n",
    "            d = [d]\n",
    "        assert isinstance(d, list), type(d)\n",
    "        datum[t] = [*map(lambda x: float(x) if x is not None else None, d)]\n",
    "    # for t in object_dtypes:\n",
    "    #     d = datum[t]\n",
    "    #     datum[t] = [(None if dd is None else float(dd)) for dd in d]"
   ]
  },
  {
   "cell_type": "code",
   "execution_count": null,
   "id": "54d0a015-f872-4dc7-b416-78e2d9a74b61",
   "metadata": {},
   "outputs": [],
   "source": [
    "data_dict = {}\n",
    "for datum in data:\n",
    "    for k in type_map:\n",
    "        if k not in data_dict:\n",
    "            data_dict[k] = []\n",
    "        data_dict[k].append(datum[k])"
   ]
  },
  {
   "cell_type": "code",
   "execution_count": null,
   "id": "f5a8a1a7-e44b-487b-b155-f97105cf8a73",
   "metadata": {},
   "outputs": [],
   "source": [
    "data_dict.keys()"
   ]
  },
  {
   "cell_type": "code",
   "execution_count": null,
   "id": "f80d6062-eef1-4ec2-a67a-3956e2a327eb",
   "metadata": {},
   "outputs": [],
   "source": [
    "for k, v in data_dict.items():\n",
    "    try:\n",
    "        pl.DataFrame({k: v})\n",
    "    except TypeError as e:\n",
    "        print(e)\n",
    "        s = set()\n",
    "        for vv in v:\n",
    "            s.add(str(np.array(vv).dtype))\n",
    "        print(s)\n",
    "        print(k)\n",
    "        print(np.array(v).shape)\n",
    "        print([])\n",
    "        break"
   ]
  },
  {
   "cell_type": "code",
   "execution_count": null,
   "id": "8a407b78-d970-4caf-b4f9-61d249330669",
   "metadata": {},
   "outputs": [],
   "source": [
    "df = pl.from_records(data)\n",
    "df"
   ]
  },
  {
   "cell_type": "code",
   "execution_count": null,
   "id": "0bb29923-bdaa-489f-b985-6c27c30d9cab",
   "metadata": {},
   "outputs": [],
   "source": [
    "import pickle\n",
    "with open('./data.pkl', 'wb') as f:\n",
    "    pickle.dump(df, f)"
   ]
  }
 ],
 "metadata": {
  "kernelspec": {
   "display_name": "Python 3 (ipykernel)",
   "language": "python",
   "name": "python3"
  },
  "language_info": {
   "codemirror_mode": {
    "name": "ipython",
    "version": 3
   },
   "file_extension": ".py",
   "mimetype": "text/x-python",
   "name": "python",
   "nbconvert_exporter": "python",
   "pygments_lexer": "ipython3",
   "version": "3.12.4"
  }
 },
 "nbformat": 4,
 "nbformat_minor": 5
}
